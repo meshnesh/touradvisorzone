{
 "cells": [
  {
   "cell_type": "code",
   "execution_count": 1,
   "metadata": {
    "collapsed": false
   },
   "outputs": [
    {
     "name": "stderr",
     "output_type": "stream",
     "text": [
      "/home/imaya/anaconda3/lib/python3.5/site-packages/matplotlib/__init__.py:1357: UserWarning:  This call to matplotlib.use() has no effect\n",
      "because the backend has already been chosen;\n",
      "matplotlib.use() must be called *before* pylab, matplotlib.pyplot,\n",
      "or matplotlib.backends is imported for the first time.\n",
      "\n",
      "  warnings.warn(_use_error_msg)\n"
     ]
    }
   ],
   "source": [
    "%matplotlib inline\n",
    "from tweepy import OAuthHandler\n",
    "from tweepy import API\n",
    "from tweepy import Cursor\n",
    "import json\n",
    "import pandas as pd\n",
    "import matplotlib as mpl\n",
    "mpl.use('Agg')\n",
    "import matplotlib.pyplot as plt\n",
    "from matplotlib.ticker import MaxNLocator\n",
    "from matplotlib import rcParams\n",
    "from matplotlib import style\n",
    "from matplotlib import dates\n",
    "from datetime import datetime\n",
    "import seaborn as sns\n",
    "import time\n",
    "import os\n",
    "from scipy.misc import imread\n",
    "from wordcloud import WordCloud, STOPWORDS, ImageColorGenerator\n",
    "import random"
   ]
  },
  {
   "cell_type": "code",
   "execution_count": 2,
   "metadata": {
    "collapsed": false
   },
   "outputs": [],
   "source": [
    "# Seaborn plots\n",
    "sns.set_palette(\"deep\", desat=.6)\n",
    "sns.set_context(rc={\"figure.figsize\": (8, 4)})\n",
    "# for R lovers :)\n",
    "style.use('ggplot')\n",
    "rcParams['axes.labelsize'] = 9\n",
    "rcParams['xtick.labelsize'] = 9\n",
    "rcParams['ytick.labelsize'] = 9\n",
    "rcParams['legend.fontsize'] = 7\n",
    "# rcParams['font.family'] = 'serif'\n",
    "rcParams['font.serif'] = ['Computer Modern Roman']\n",
    "rcParams['text.usetex'] = False\n",
    "rcParams['figure.figsize'] = 20, 10"
   ]
  },
  {
   "cell_type": "code",
   "execution_count": 3,
   "metadata": {
    "collapsed": true
   },
   "outputs": [],
   "source": [
    "access_token = \"1538574218-D1Wf4IDzXIM909gsVsJqDXmRdkLk3WJouDg6Wof\"\n",
    "access_token_secret = \"pCW35DBdIKMsb3DBsyo5rsfs4Byw6YgQNNOMIWJKQ4671\"\n",
    "consumer_key = \"ixKovylDZWX6UMt7VnQks6vyD\"\n",
    "consumer_secret = \"d13SZQDImUIwhedjwKM3abeMTjPZPzlISFcdkOweXXrtIx2i1n\""
   ]
  },
  {
   "cell_type": "code",
   "execution_count": 4,
   "metadata": {
    "collapsed": true
   },
   "outputs": [],
   "source": [
    "MAX_TWEETS = 8000"
   ]
  },
  {
   "cell_type": "code",
   "execution_count": 5,
   "metadata": {
    "collapsed": true
   },
   "outputs": [],
   "source": [
    "# This handles Twitter authentication and the connection to Twitter Streaming API\n",
    "auth = OAuthHandler(consumer_key, consumer_secret)\n",
    "auth.set_access_token(access_token, access_token_secret)\n",
    "api = API(auth, wait_on_rate_limit=True)"
   ]
  },
  {
   "cell_type": "code",
   "execution_count": 6,
   "metadata": {
    "collapsed": true
   },
   "outputs": [],
   "source": [
    "data = Cursor(api.search, q='HellsGateNationalPark').items(MAX_TWEETS)"
   ]
  },
  {
   "cell_type": "code",
   "execution_count": 7,
   "metadata": {
    "collapsed": false
   },
   "outputs": [],
   "source": [
    "mozsprint_data = []\n",
    "data1 = {'text': [], 'user': [], 'created_at': [], 'lang': [],\n",
    "        'retweet_count': [], 'favorite_count': [],\n",
    "        'Location': [], 'user_followers_count': []}\n",
    "# You will use this line in production instead of this\n",
    "# current_working_dir = os.path.dirname(os.path.realpath(__file__))\n",
    "current_working_dir = \"./\"\n",
    "log_tweets = current_working_dir  + str(time.time()) + '_hellsgatenationalpark.txt'\n",
    "with open(log_tweets, 'w') as outfile:\n",
    "    for tweet in data:\n",
    "        mozsprint_data.append(json.loads(json.dumps(tweet._json)))\n",
    "        outfile.write(json.dumps(tweet._json))\n",
    "        outfile.write(\"\\n\")\n",
    "        \n",
    "for tweet in mozsprint_data: \n",
    "#     data1['created_at'].append(tweet['created_at'])\n",
    "    data1['created_at'].append(time.strftime('%Y-%m-%d %H:%M:%S',time.strptime(tweet['created_at'],'%a %b %d %H:%M:%S +0000 %Y')))\n",
    "    data1['user'].append(tweet['user']['screen_name'])\n",
    "    data1['user_followers_count'].append(tweet['user']['followers_count'])\n",
    "    data1['text'].append(tweet['text'])\n",
    "    data1['lang'].append(tweet['lang'])\n",
    "    data1['Location'].append(tweet['place']['country'] if tweet['place'] != None else None)\n",
    "    data1['retweet_count'].append(tweet['retweet_count'])\n",
    "    data1['favorite_count'].append(tweet['favorite_count'])\n",
    "        "
   ]
  },
  {
   "cell_type": "code",
   "execution_count": 8,
   "metadata": {
    "collapsed": false
   },
   "outputs": [
    {
     "name": "stdout",
     "output_type": "stream",
     "text": [
      "{'possibly_sensitive': False, 'entities': {'user_mentions': [], 'hashtags': [{'text': 'longweekend', 'indices': [25, 37]}, {'text': 'gorge', 'indices': [38, 44]}, {'text': 'kenya', 'indices': [45, 51]}, {'text': 'africa', 'indices': [52, 59]}, {'text': 'hellsgatenationalpark', 'indices': [61, 83]}], 'urls': [{'indices': [84, 107], 'url': 'https://t.co/21QGVlg3gW', 'display_url': 'instagram.com/p/BN6N4y1gHOH/', 'expanded_url': 'https://www.instagram.com/p/BN6N4y1gHOH/'}], 'symbols': []}, 'id_str': '808220262365888512', 'retweet_count': 0, 'place': None, 'favorite_count': 0, 'contributors': None, 'truncated': False, 'coordinates': None, 'retweeted': False, 'in_reply_to_user_id': None, 'geo': None, 'in_reply_to_status_id_str': None, 'user': {'profile_background_image_url': 'http://pbs.twimg.com/profile_background_images/276984836/IMG_0173.JPG', 'profile_background_color': '709397', 'entities': {'description': {'urls': []}, 'url': {'urls': [{'indices': [0, 23], 'url': 'https://t.co/PDtNpl1bUW', 'display_url': 'anjalinayar.com', 'expanded_url': 'http://anjalinayar.com'}]}}, 'profile_image_url_https': 'https://pbs.twimg.com/profile_images/775310253252603905/3ZRANK_D_normal.jpg', 'id_str': '126873534', 'name': 'Anjali Nayar', 'profile_sidebar_fill_color': 'A0C5C7', 'is_translation_enabled': False, 'follow_request_sent': False, 'protected': False, 'profile_image_url': 'http://pbs.twimg.com/profile_images/775310253252603905/3ZRANK_D_normal.jpg', 'profile_link_color': 'FF3300', 'default_profile': False, 'utc_offset': 3600, 'contributors_enabled': False, 'screen_name': 'anjalinayar', 'profile_background_tile': True, 'statuses_count': 3148, 'favourites_count': 297, 'following': False, 'description': 'Storyteller, capoeirista, troublemaker. \\nSee @gunrunnersmovie in theatres 2016\\n@justabandmovie @logsofwar @timbyafrica', 'url': 'https://t.co/PDtNpl1bUW', 'default_profile_image': False, 'geo_enabled': False, 'is_translator': False, 'profile_sidebar_border_color': '86A4A6', 'translator_type': 'none', 'lang': 'en', 'profile_background_image_url_https': 'https://pbs.twimg.com/profile_background_images/276984836/IMG_0173.JPG', 'time_zone': 'Berlin', 'created_at': 'Sat Mar 27 07:39:37 +0000 2010', 'has_extended_profile': False, 'notifications': False, 'followers_count': 2560, 'location': \"I'm equatorial\", 'profile_use_background_image': True, 'friends_count': 426, 'verified': False, 'profile_text_color': '333333', 'id': 126873534, 'listed_count': 0, 'profile_banner_url': 'https://pbs.twimg.com/profile_banners/126873534/1473683329'}, 'source': '<a href=\"http://instagram.com\" rel=\"nofollow\">Instagram</a>', 'in_reply_to_status_id': None, 'is_quote_status': False, 'metadata': {'iso_language_code': 'en', 'result_type': 'recent'}, 'favorited': False, 'created_at': 'Mon Dec 12 08:01:41 +0000 2016', 'text': 'Rain clouds rolling in.\\n\\n#longweekend #gorge #kenya #africa \\n#hellsgatenationalpark https://t.co/21QGVlg3gW', 'lang': 'en', 'id': 808220262365888512, 'in_reply_to_screen_name': None, 'in_reply_to_user_id_str': None}\n"
     ]
    }
   ],
   "source": [
    "print (mozsprint_data[0])"
   ]
  },
  {
   "cell_type": "code",
   "execution_count": 9,
   "metadata": {
    "collapsed": false
   },
   "outputs": [],
   "source": [
    "# Create the dataframe we will use\n",
    "tweets = pd.DataFrame(data1)\n",
    "# # We want to know when a tweet was sent\n",
    "# tweets['created_at'] = map(lambda tweet: time.strftime('%Y-%m-%d %H:%M:%S', time.strptime(tweet['created_at'],'%a %b %d %H:%M:%S +0000 %Y')), mozsprint_data)\n",
    "# # Who is the tweet owner\n",
    "# tweets['user'] = map(lambda tweet: tweet['user']['screen_name'], mozsprint_data)\n",
    "# # How many follower this user has\n",
    "# tweets['user_followers_count'] = map(lambda tweet: tweet['user']['followers_count'], mozsprint_data)\n",
    "# # What is the tweet's content\n",
    "# tweets['text'] = map(lambda tweet: tweet['text'].encode('utf-8'), mozsprint_data)\n",
    "# # If available what is the language the tweet is written in\n",
    "# tweets['lang'] = map(lambda tweet: tweet['lang'], mozsprint_data)\n",
    "# # If available, where was the tweet sent from ?\n",
    "# tweets['Location'] = map(lambda tweet: tweet['place']['country'] if tweet['place'] != None else None, mozsprint_data)\n",
    "# # How many times this tweet was retweeted and favorited\n",
    "# tweets['retweet_count'] = map(lambda tweet: tweet['retweet_count'], mozsprint_data)\n",
    "# tweets['favorite_count'] = map(lambda tweet: tweet['favorite_count'], mozsprint_data)"
   ]
  },
  {
   "cell_type": "code",
   "execution_count": 10,
   "metadata": {
    "collapsed": false
   },
   "outputs": [
    {
     "name": "stdout",
     "output_type": "stream",
     "text": [
      "  Location           created_at  favorite_count lang  retweet_count  \\\n",
      "0     None  2016-12-12 08:01:41               0   en              0   \n",
      "\n",
      "                                                text         user  \\\n",
      "0  Rain clouds rolling in.\\n\\n#longweekend #gorge...  anjalinayar   \n",
      "\n",
      "   user_followers_count  \n",
      "0                  2560  \n"
     ]
    }
   ],
   "source": [
    "print (tweets.head())"
   ]
  },
  {
   "cell_type": "code",
   "execution_count": 11,
   "metadata": {
    "collapsed": true
   },
   "outputs": [],
   "source": [
    "list_of_original_tweets = [element for element in tweets['text'].values if not element.startswith('RT')]"
   ]
  },
  {
   "cell_type": "code",
   "execution_count": 12,
   "metadata": {
    "collapsed": false
   },
   "outputs": [
    {
     "name": "stdout",
     "output_type": "stream",
     "text": [
      "Rain clouds rolling in.\n",
      "\n",
      "#longweekend #gorge #kenya #africa \n",
      "#hellsgatenationalpark https://t.co/21QGVlg3gW\n"
     ]
    }
   ],
   "source": [
    "print (list_of_original_tweets[0])"
   ]
  },
  {
   "cell_type": "code",
   "execution_count": 13,
   "metadata": {
    "collapsed": false
   },
   "outputs": [
    {
     "name": "stdout",
     "output_type": "stream",
     "text": [
      "Number of Original Tweets : 1\n"
     ]
    }
   ],
   "source": [
    "print (\"Number of Original Tweets : \" + str(len(list_of_original_tweets)))"
   ]
  },
  {
   "cell_type": "code",
   "execution_count": 14,
   "metadata": {
    "collapsed": true
   },
   "outputs": [],
   "source": [
    "list_of_retweets = [element for element in tweets['text'].values if element.startswith('RT')]"
   ]
  },
  {
   "cell_type": "code",
   "execution_count": 15,
   "metadata": {
    "collapsed": false
   },
   "outputs": [
    {
     "name": "stdout",
     "output_type": "stream",
     "text": [
      "Number of Retweets : 0\n"
     ]
    }
   ],
   "source": [
    "print (\"Number of Retweets : \" + str(len(list_of_retweets)))"
   ]
  },
  {
   "cell_type": "code",
   "execution_count": 20,
   "metadata": {
    "collapsed": true
   },
   "outputs": [],
   "source": [
    "f = open('../tweets.txt','a')\n",
    "f.write('\\n'+ '('+'3' + ',' + \"'\"+ \"Hells Gate National Park\" + \"'\" + ',' + \"'\"+ str(len(list_of_original_tweets)) + \"'\"+',' + \"'\"+ str(len(list_of_retweets)) + \"'\" +',' + '21'+')'+',' )\n",
    "f.close() "
   ]
  },
  {
   "cell_type": "code",
   "execution_count": 17,
   "metadata": {
    "collapsed": true
   },
   "outputs": [],
   "source": [
    "# General plotting function for the different information extracted\n",
    "def plot_tweets_per_category(category, title, x_title, y_title, top_n=5, output_filename=\"plot.png\"):\n",
    "    \"\"\"\n",
    "    :param category: Category plotted, can be tweets users, tweets language, tweets country etc ..\n",
    "    :param title: Title of the plot\n",
    "    :param x_title: List of the items in x\n",
    "    :param y_title: Title of the variable plotted\n",
    "    :return: a plot that we can save as pdf or png instead of displaying to the screen\n",
    "    \"\"\"\n",
    "    tweets_by_cat = category.value_counts()\n",
    "    fig, ax = plt.subplots()\n",
    "    ax.tick_params(axis='x')\n",
    "    ax.tick_params(axis='y')\n",
    "    ax.set_xlabel(x_title)\n",
    "    ax.set_ylabel(y_title)\n",
    "    ax.set_title(title)\n",
    "    tweets_by_cat[:top_n].plot(ax=ax, kind='bar')\n",
    "    fig.savefig(output_filename)\n",
    "    fig.show()"
   ]
  },
  {
   "cell_type": "code",
   "execution_count": 18,
   "metadata": {
    "collapsed": false
   },
   "outputs": [
    {
     "name": "stderr",
     "output_type": "stream",
     "text": [
      "/home/imaya/anaconda3/lib/python3.5/site-packages/matplotlib/figure.py:397: UserWarning: matplotlib is currently using a non-GUI backend, so cannot show the figure\n",
      "  \"matplotlib is currently using a non-GUI backend, \"\n"
     ]
    },
    {
     "data": {
      "image/png": "[encoded data removed]",
      "text/plain": [
       "<matplotlib.figure.Figure at 0x7fb14bf235c0>"
      ]
     },
     "metadata": {},
     "output_type": "display_data"
    }
   ],
   "source": [
    "plot_tweets_per_category(tweets['lang'], \"#hellsgatenationalpark by Language\", \n",
    "                         \"Language\", \n",
    "                         \"Number of Tweets\", \n",
    "                         2000,\n",
    "                         \"hellsgatenationalpark_per_language.png\")"
   ]
  },
  {
   "cell_type": "code",
   "execution_count": 19,
   "metadata": {
    "collapsed": false
   },
   "outputs": [
    {
     "ename": "TypeError",
     "evalue": "Empty 'DataFrame': no numeric data to plot",
     "output_type": "error",
     "traceback": [
      "\u001b[0;31m---------------------------------------------------------------------------\u001b[0m",
      "\u001b[0;31mTypeError\u001b[0m                                 Traceback (most recent call last)",
      "\u001b[0;32m<ipython-input-19-056cf9c81c11>\u001b[0m in \u001b[0;36m<module>\u001b[0;34m()\u001b[0m\n\u001b[1;32m      3\u001b[0m                          \u001b[0;34m\"Location\"\u001b[0m\u001b[0;34m,\u001b[0m\u001b[0;34m\u001b[0m\u001b[0m\n\u001b[1;32m      4\u001b[0m                          \u001b[0;34m\"Number of Tweets\"\u001b[0m\u001b[0;34m,\u001b[0m \u001b[0;36m2000\u001b[0m\u001b[0;34m,\u001b[0m\u001b[0;34m\u001b[0m\u001b[0m\n\u001b[0;32m----> 5\u001b[0;31m                          \"hellsgatenationalpark_per_location.png\")\n\u001b[0m",
      "\u001b[0;32m<ipython-input-17-ea03a6ac8507>\u001b[0m in \u001b[0;36mplot_tweets_per_category\u001b[0;34m(category, title, x_title, y_title, top_n, output_filename)\u001b[0m\n\u001b[1;32m     15\u001b[0m     \u001b[0max\u001b[0m\u001b[0;34m.\u001b[0m\u001b[0mset_ylabel\u001b[0m\u001b[0;34m(\u001b[0m\u001b[0my_title\u001b[0m\u001b[0;34m)\u001b[0m\u001b[0;34m\u001b[0m\u001b[0m\n\u001b[1;32m     16\u001b[0m     \u001b[0max\u001b[0m\u001b[0;34m.\u001b[0m\u001b[0mset_title\u001b[0m\u001b[0;34m(\u001b[0m\u001b[0mtitle\u001b[0m\u001b[0;34m)\u001b[0m\u001b[0;34m\u001b[0m\u001b[0m\n\u001b[0;32m---> 17\u001b[0;31m     \u001b[0mtweets_by_cat\u001b[0m\u001b[0;34m[\u001b[0m\u001b[0;34m:\u001b[0m\u001b[0mtop_n\u001b[0m\u001b[0;34m]\u001b[0m\u001b[0;34m.\u001b[0m\u001b[0mplot\u001b[0m\u001b[0;34m(\u001b[0m\u001b[0max\u001b[0m\u001b[0;34m=\u001b[0m\u001b[0max\u001b[0m\u001b[0;34m,\u001b[0m \u001b[0mkind\u001b[0m\u001b[0;34m=\u001b[0m\u001b[0;34m'bar'\u001b[0m\u001b[0;34m)\u001b[0m\u001b[0;34m\u001b[0m\u001b[0m\n\u001b[0m\u001b[1;32m     18\u001b[0m     \u001b[0mfig\u001b[0m\u001b[0;34m.\u001b[0m\u001b[0msavefig\u001b[0m\u001b[0;34m(\u001b[0m\u001b[0moutput_filename\u001b[0m\u001b[0;34m)\u001b[0m\u001b[0;34m\u001b[0m\u001b[0m\n\u001b[1;32m     19\u001b[0m     \u001b[0mfig\u001b[0m\u001b[0;34m.\u001b[0m\u001b[0mshow\u001b[0m\u001b[0;34m(\u001b[0m\u001b[0;34m)\u001b[0m\u001b[0;34m\u001b[0m\u001b[0m\n",
      "\u001b[0;32m/home/imaya/anaconda3/lib/python3.5/site-packages/pandas/tools/plotting.py\u001b[0m in \u001b[0;36m__call__\u001b[0;34m(self, kind, ax, figsize, use_index, title, grid, legend, style, logx, logy, loglog, xticks, yticks, xlim, ylim, rot, fontsize, colormap, table, yerr, xerr, label, secondary_y, **kwds)\u001b[0m\n\u001b[1;32m   3564\u001b[0m                            \u001b[0mcolormap\u001b[0m\u001b[0;34m=\u001b[0m\u001b[0mcolormap\u001b[0m\u001b[0;34m,\u001b[0m \u001b[0mtable\u001b[0m\u001b[0;34m=\u001b[0m\u001b[0mtable\u001b[0m\u001b[0;34m,\u001b[0m \u001b[0myerr\u001b[0m\u001b[0;34m=\u001b[0m\u001b[0myerr\u001b[0m\u001b[0;34m,\u001b[0m\u001b[0;34m\u001b[0m\u001b[0m\n\u001b[1;32m   3565\u001b[0m                            \u001b[0mxerr\u001b[0m\u001b[0;34m=\u001b[0m\u001b[0mxerr\u001b[0m\u001b[0;34m,\u001b[0m \u001b[0mlabel\u001b[0m\u001b[0;34m=\u001b[0m\u001b[0mlabel\u001b[0m\u001b[0;34m,\u001b[0m \u001b[0msecondary_y\u001b[0m\u001b[0;34m=\u001b[0m\u001b[0msecondary_y\u001b[0m\u001b[0;34m,\u001b[0m\u001b[0;34m\u001b[0m\u001b[0m\n\u001b[0;32m-> 3566\u001b[0;31m                            **kwds)\n\u001b[0m\u001b[1;32m   3567\u001b[0m     \u001b[0m__call__\u001b[0m\u001b[0;34m.\u001b[0m\u001b[0m__doc__\u001b[0m \u001b[0;34m=\u001b[0m \u001b[0mplot_series\u001b[0m\u001b[0;34m.\u001b[0m\u001b[0m__doc__\u001b[0m\u001b[0;34m\u001b[0m\u001b[0m\n\u001b[1;32m   3568\u001b[0m \u001b[0;34m\u001b[0m\u001b[0m\n",
      "\u001b[0;32m/home/imaya/anaconda3/lib/python3.5/site-packages/pandas/tools/plotting.py\u001b[0m in \u001b[0;36mplot_series\u001b[0;34m(data, kind, ax, figsize, use_index, title, grid, legend, style, logx, logy, loglog, xticks, yticks, xlim, ylim, rot, fontsize, colormap, table, yerr, xerr, label, secondary_y, **kwds)\u001b[0m\n\u001b[1;32m   2643\u001b[0m                  \u001b[0myerr\u001b[0m\u001b[0;34m=\u001b[0m\u001b[0myerr\u001b[0m\u001b[0;34m,\u001b[0m \u001b[0mxerr\u001b[0m\u001b[0;34m=\u001b[0m\u001b[0mxerr\u001b[0m\u001b[0;34m,\u001b[0m\u001b[0;34m\u001b[0m\u001b[0m\n\u001b[1;32m   2644\u001b[0m                  \u001b[0mlabel\u001b[0m\u001b[0;34m=\u001b[0m\u001b[0mlabel\u001b[0m\u001b[0;34m,\u001b[0m \u001b[0msecondary_y\u001b[0m\u001b[0;34m=\u001b[0m\u001b[0msecondary_y\u001b[0m\u001b[0;34m,\u001b[0m\u001b[0;34m\u001b[0m\u001b[0m\n\u001b[0;32m-> 2645\u001b[0;31m                  **kwds)\n\u001b[0m\u001b[1;32m   2646\u001b[0m \u001b[0;34m\u001b[0m\u001b[0m\n\u001b[1;32m   2647\u001b[0m \u001b[0;34m\u001b[0m\u001b[0m\n",
      "\u001b[0;32m/home/imaya/anaconda3/lib/python3.5/site-packages/pandas/tools/plotting.py\u001b[0m in \u001b[0;36m_plot\u001b[0;34m(data, x, y, subplots, ax, kind, **kwds)\u001b[0m\n\u001b[1;32m   2439\u001b[0m         \u001b[0mplot_obj\u001b[0m \u001b[0;34m=\u001b[0m \u001b[0mklass\u001b[0m\u001b[0;34m(\u001b[0m\u001b[0mdata\u001b[0m\u001b[0;34m,\u001b[0m \u001b[0msubplots\u001b[0m\u001b[0;34m=\u001b[0m\u001b[0msubplots\u001b[0m\u001b[0;34m,\u001b[0m \u001b[0max\u001b[0m\u001b[0;34m=\u001b[0m\u001b[0max\u001b[0m\u001b[0;34m,\u001b[0m \u001b[0mkind\u001b[0m\u001b[0;34m=\u001b[0m\u001b[0mkind\u001b[0m\u001b[0;34m,\u001b[0m \u001b[0;34m**\u001b[0m\u001b[0mkwds\u001b[0m\u001b[0;34m)\u001b[0m\u001b[0;34m\u001b[0m\u001b[0m\n\u001b[1;32m   2440\u001b[0m \u001b[0;34m\u001b[0m\u001b[0m\n\u001b[0;32m-> 2441\u001b[0;31m     \u001b[0mplot_obj\u001b[0m\u001b[0;34m.\u001b[0m\u001b[0mgenerate\u001b[0m\u001b[0;34m(\u001b[0m\u001b[0;34m)\u001b[0m\u001b[0;34m\u001b[0m\u001b[0m\n\u001b[0m\u001b[1;32m   2442\u001b[0m     \u001b[0mplot_obj\u001b[0m\u001b[0;34m.\u001b[0m\u001b[0mdraw\u001b[0m\u001b[0;34m(\u001b[0m\u001b[0;34m)\u001b[0m\u001b[0;34m\u001b[0m\u001b[0m\n\u001b[1;32m   2443\u001b[0m     \u001b[0;32mreturn\u001b[0m \u001b[0mplot_obj\u001b[0m\u001b[0;34m.\u001b[0m\u001b[0mresult\u001b[0m\u001b[0;34m\u001b[0m\u001b[0m\n",
      "\u001b[0;32m/home/imaya/anaconda3/lib/python3.5/site-packages/pandas/tools/plotting.py\u001b[0m in \u001b[0;36mgenerate\u001b[0;34m(self)\u001b[0m\n\u001b[1;32m   1024\u001b[0m     \u001b[0;32mdef\u001b[0m \u001b[0mgenerate\u001b[0m\u001b[0;34m(\u001b[0m\u001b[0mself\u001b[0m\u001b[0;34m)\u001b[0m\u001b[0;34m:\u001b[0m\u001b[0;34m\u001b[0m\u001b[0m\n\u001b[1;32m   1025\u001b[0m         \u001b[0mself\u001b[0m\u001b[0;34m.\u001b[0m\u001b[0m_args_adjust\u001b[0m\u001b[0;34m(\u001b[0m\u001b[0;34m)\u001b[0m\u001b[0;34m\u001b[0m\u001b[0m\n\u001b[0;32m-> 1026\u001b[0;31m         \u001b[0mself\u001b[0m\u001b[0;34m.\u001b[0m\u001b[0m_compute_plot_data\u001b[0m\u001b[0;34m(\u001b[0m\u001b[0;34m)\u001b[0m\u001b[0;34m\u001b[0m\u001b[0m\n\u001b[0m\u001b[1;32m   1027\u001b[0m         \u001b[0mself\u001b[0m\u001b[0;34m.\u001b[0m\u001b[0m_setup_subplots\u001b[0m\u001b[0;34m(\u001b[0m\u001b[0;34m)\u001b[0m\u001b[0;34m\u001b[0m\u001b[0m\n\u001b[1;32m   1028\u001b[0m         \u001b[0mself\u001b[0m\u001b[0;34m.\u001b[0m\u001b[0m_make_plot\u001b[0m\u001b[0;34m(\u001b[0m\u001b[0;34m)\u001b[0m\u001b[0;34m\u001b[0m\u001b[0m\n",
      "\u001b[0;32m/home/imaya/anaconda3/lib/python3.5/site-packages/pandas/tools/plotting.py\u001b[0m in \u001b[0;36m_compute_plot_data\u001b[0;34m(self)\u001b[0m\n\u001b[1;32m   1133\u001b[0m         \u001b[0;32mif\u001b[0m \u001b[0mis_empty\u001b[0m\u001b[0;34m:\u001b[0m\u001b[0;34m\u001b[0m\u001b[0m\n\u001b[1;32m   1134\u001b[0m             raise TypeError('Empty {0!r}: no numeric data to '\n\u001b[0;32m-> 1135\u001b[0;31m                             'plot'.format(numeric_data.__class__.__name__))\n\u001b[0m\u001b[1;32m   1136\u001b[0m \u001b[0;34m\u001b[0m\u001b[0m\n\u001b[1;32m   1137\u001b[0m         \u001b[0mself\u001b[0m\u001b[0;34m.\u001b[0m\u001b[0mdata\u001b[0m \u001b[0;34m=\u001b[0m \u001b[0mnumeric_data\u001b[0m\u001b[0;34m\u001b[0m\u001b[0m\n",
      "\u001b[0;31mTypeError\u001b[0m: Empty 'DataFrame': no numeric data to plot"
     ]
    },
    {
     "data": {
      "image/png": "[encoded data removed]",
      "text/plain": [
       "<matplotlib.figure.Figure at 0x7fb1493936a0>"
      ]
     },
     "metadata": {},
     "output_type": "display_data"
    }
   ],
   "source": [
    "plot_tweets_per_category(tweets['Location'], \n",
    "                         \"#hellsgatenationalpark by Location\", \n",
    "                         \"Location\", \n",
    "                         \"Number of Tweets\", 2000,\n",
    "                         \"hellsgatenationalpark_per_location.png\")"
   ]
  },
  {
   "cell_type": "code",
   "execution_count": null,
   "metadata": {
    "collapsed": false,
    "scrolled": true
   },
   "outputs": [],
   "source": [
    "plot_tweets_per_category(tweets['user'], \n",
    "                         \"#hellsgatenationalpark active users\", \n",
    "                         \"Users\", \n",
    "                         \"Number of Tweets\", 20,\n",
    "                         \"hellsgatenationalpark_users.png\")"
   ]
  },
  {
   "cell_type": "code",
   "execution_count": null,
   "metadata": {
    "collapsed": true
   },
   "outputs": [],
   "source": [
    "def plot_distribution(category, title, x_title, y_title, output_filename=\"plot.png\"):\n",
    "    \"\"\"\n",
    "    :param category: Category plotted, can be users, language, country etc ..\n",
    "    :param title: Title of the plot\n",
    "    :param x_title: List of the items in x\n",
    "    :param y_title: Title of the variable plotted\n",
    "    :return: a plot that we can save as pdf or png instead of displaying to the screen\n",
    "    \"\"\"\n",
    "    fig, ax = plt.subplots()\n",
    "    ax.tick_params(axis='x')\n",
    "    ax.tick_params(axis='y')\n",
    "    ax.set_xlabel(x_title)\n",
    "    ax.set_ylabel(y_title)\n",
    "    ax.set_title(title)\n",
    "    sns.distplot(category.values, rug=True, hist=True);\n",
    "    fig.savefig(output_filename)"
   ]
  },
  {
   "cell_type": "code",
   "execution_count": null,
   "metadata": {
    "collapsed": false,
    "scrolled": true
   },
   "outputs": [],
   "source": [
    "plot_distribution(tweets['retweet_count'], \n",
    "                  \"#hellsgatenationalpark retweets distribution\", \"\", \"\",\n",
    "                  \"retweets_distribution.png\")"
   ]
  },
  {
   "cell_type": "code",
   "execution_count": null,
   "metadata": {
    "collapsed": false
   },
   "outputs": [],
   "source": [
    "df = pd.DataFrame(tweets['created_at'].value_counts(), columns=['number_tweets'])\n",
    "df['date'] = df.index\n",
    "df.head()"
   ]
  },
  {
   "cell_type": "code",
   "execution_count": null,
   "metadata": {
    "collapsed": false
   },
   "outputs": [],
   "source": [
    "days = [item.split(\" \")[0] for item in df['date'].values]\n",
    "df['days'] = days\n",
    "grouped_tweets = df[['days', 'number_tweets']].groupby('days')\n",
    "tweet_growth = grouped_tweets.sum()\n",
    "tweet_growth['days']= tweet_growth.index\n",
    "\n",
    "tweet_growth"
   ]
  },
  {
   "cell_type": "code",
   "execution_count": null,
   "metadata": {
    "collapsed": false,
    "scrolled": true
   },
   "outputs": [],
   "source": [
    "import numpy as np\n",
    "fig = plt.figure()\n",
    "ax = plt.subplot(111)\n",
    "x_pos = np.arange(len(tweet_growth['days'].values))\n",
    "ax.bar(x_pos, tweet_growth['number_tweets'].values, align='center')\n",
    "ax.set_xticks(x_pos)\n",
    "ax.set_title('#hellsgatenationalpark hashtag growth')\n",
    "ax.set_ylabel(\"number tweets\")\n",
    "ax.set_xticklabels(tweet_growth['days'].values)\n",
    "fig.savefig('hellsgatenationalpark_growth.png')"
   ]
  },
  {
   "cell_type": "code",
   "execution_count": null,
   "metadata": {
    "collapsed": true
   },
   "outputs": [],
   "source": [
    "text = \" \".join(tweets['text'].values.astype(str))"
   ]
  },
  {
   "cell_type": "code",
   "execution_count": null,
   "metadata": {
    "collapsed": true
   },
   "outputs": [],
   "source": [
    "no_urls_no_tags = \" \".join([word for word in text.split()\n",
    "                            if 'http' not in word\n",
    "                                and not word.startswith('@')\n",
    "                                and word != 'RT'\n",
    "                            ])"
   ]
  },
  {
   "cell_type": "code",
   "execution_count": null,
   "metadata": {
    "collapsed": true
   },
   "outputs": [],
   "source": [
    "moz_mask = imread(\"./twitter_mask.png\", flatten=True)"
   ]
  },
  {
   "cell_type": "code",
   "execution_count": null,
   "metadata": {
    "collapsed": false
   },
   "outputs": [],
   "source": [
    "wc = WordCloud(background_color=\"white\", font_path=\"/Library/Fonts/Verdana.ttf\", stopwords=STOPWORDS, width=1800,\n",
    "                      height=140, mask=moz_mask)\n",
    "wc.generate(no_urls_no_tags)\n",
    "plt.imshow(wc)\n",
    "plt.axis(\"off\")\n",
    "plt.savefig('hellsgatenationalpark.png', dpi=300)"
   ]
  }
 ],
 "metadata": {
  "anaconda-cloud": {},
  "kernelspec": {
   "display_name": "Python [conda root]",
   "language": "python",
   "name": "conda-root-py"
  },
  "language_info": {
   "codemirror_mode": {
    "name": "ipython",
    "version": 3
   },
   "file_extension": ".py",
   "mimetype": "text/x-python",
   "name": "python",
   "nbconvert_exporter": "python",
   "pygments_lexer": "ipython3",
   "version": "3.5.2"
  }
 },
 "nbformat": 4,
 "nbformat_minor": 2
}
